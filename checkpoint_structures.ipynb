{
 "cells": [
  {
   "cell_type": "markdown",
   "id": "42dc8592",
   "metadata": {},
   "source": [
    "### Question 1\n",
    "Écrivez un programme Python qui multiplie tous les éléments d'une liste."
   ]
  },
  {
   "cell_type": "code",
   "execution_count": null,
   "id": "e9d720c9",
   "metadata": {},
   "outputs": [],
   "source": [
    "my_list = [2, 3, 6]\n",
    "\n",
    "result = 1\n",
    "for num in my_list:\n",
    "    result *= num\n",
    "\n",
    "print(\"Résultat =\", result)  # Résultat attendu = 36"
   ]
  },
  {
   "cell_type": "markdown",
   "id": "74cac380",
   "metadata": {},
   "source": [
    "### Question 2\n",
    "Trier une liste de tuples par ordre croissant du dernier élément de chaque tuple."
   ]
  },
  {
   "cell_type": "code",
   "execution_count": null,
   "id": "44421232",
   "metadata": {},
   "outputs": [],
   "source": [
    "list_tuples = [(2, 5), (1, 2), (4, 4), (2, 3), (2, 1)]\n",
    "\n",
    "list_tuples.sort(key=lambda x: x[-1])\n",
    "\n",
    "print(\"Résultat attendu:\", list_tuples)\n",
    "# Résultat attendu : [(2, 1), (1, 2), (2, 3), (4, 4), (2, 5)]"
   ]
  },
  {
   "cell_type": "markdown",
   "id": "74dfd5a2",
   "metadata": {},
   "source": [
    "### Question 3\n",
    "Combiner deux dictionnaires en ajoutant les valeurs pour les clés communes."
   ]
  },
  {
   "cell_type": "code",
   "execution_count": null,
   "id": "b09728dd",
   "metadata": {},
   "outputs": [],
   "source": [
    "d1 = {'a': 100, 'b': 200, 'c': 300}\n",
    "d2 = {'a': 300, 'b': 200, 'd': 400}\n",
    "\n",
    "result = d1.copy()\n",
    "for key, value in d2.items():\n",
    "    result[key] = result.get(key, 0) + value\n",
    "\n",
    "print(\"Résultat attendu:\", result)\n",
    "# Résultat attendu: {'a': 400, 'b': 400, 'c': 300, 'd': 400}"
   ]
  },
  {
   "cell_type": "markdown",
   "id": "5baaf6e6",
   "metadata": {},
   "source": [
    "### Question 4\n",
    "Avec un entier n donné, générer un dictionnaire {i : i*i} de 1 à n."
   ]
  },
  {
   "cell_type": "code",
   "execution_count": null,
   "id": "c3981dc3",
   "metadata": {},
   "outputs": [],
   "source": [
    "n = 8\n",
    "squares = {i: i*i for i in range(1, n+1)}\n",
    "\n",
    "print(\"Résultat:\", squares)\n",
    "# Résultat attendu: {1:1, 2:4, 3:9, 4:16, 5:25, 6:36, 7:49, 8:64}"
   ]
  },
  {
   "cell_type": "markdown",
   "id": "5d0a7c49",
   "metadata": {},
   "source": [
    "### Question 5\n",
    "Trier une liste de tuples par leur élément flottant (ordre décroissant)."
   ]
  },
  {
   "cell_type": "code",
   "execution_count": null,
   "id": "4faea975",
   "metadata": {},
   "outputs": [],
   "source": [
    "list_data = [('item1', '12.20'), ('item2', '15.10'), ('item3', '24.5')]\n",
    "\n",
    "sorted_list = sorted(list_data, key=lambda x: float(x[1]), reverse=True)\n",
    "\n",
    "print(\"Résultat attendu:\", sorted_list)\n",
    "# Résultat attendu: [('item3', '24.5'), ('item2', '15.10'), ('item1', '12.20')]"
   ]
  },
  {
   "cell_type": "markdown",
   "id": "66848fac",
   "metadata": {},
   "source": [
    "### Question 6\n",
    "Créer un ensemble, itérer dessus, ajouter et retirer des éléments."
   ]
  },
  {
   "cell_type": "code",
   "execution_count": null,
   "id": "ad661cf0",
   "metadata": {},
   "outputs": [],
   "source": [
    "s = {0, 1, 2, 3, 4}\n",
    "print(\"Ensemble initial:\", s)\n",
    "\n",
    "print(\"Itération sur l'ensemble:\")\n",
    "for item in s:\n",
    "    print(\"Élément:\", item)\n",
    "\n",
    "s.add(5)\n",
    "s.update([6, 7])\n",
    "print(\"Après ajout:\", s)\n",
    "\n",
    "s.remove(3)   # supprime l'élément 3\n",
    "s.discard(10) # ne fait rien si 10 n'existe pas\n",
    "print(\"Après suppression:\", s)"
   ]
  }
 ],
 "metadata": {},
 "nbformat": 4,
 "nbformat_minor": 5
}
