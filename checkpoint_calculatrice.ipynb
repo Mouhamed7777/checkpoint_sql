{
 "cells": [
  {
   "cell_type": "markdown",
   "id": "ecd8449c",
   "metadata": {},
   "source": [
    "### Checkpoint : Calculatrice simple en Python\n",
    "Objectif : Créer une application de calculatrice qui effectue addition, soustraction, multiplication et division.\n",
    "\n",
    "**Instructions** :\n",
    "- Demander deux nombres à l’utilisateur\n",
    "- Demander l’opérateur (+, -, *, /)\n",
    "- Calculer et afficher le résultat\n",
    "- Gérer la division par zéro et les opérateurs invalides\n",
    "- Boucler pour permettre plusieurs calculs"
   ]
  },
  {
   "cell_type": "code",
   "execution_count": null,
   "id": "fabd3dbf",
   "metadata": {},
   "outputs": [],
   "source": [
    "# Checkpoint : Calculatrice simple en Python\n",
    "\n",
    "def calculatrice(num1, num2):\n",
    "    operateur = input(\"Entrez l'opérateur (+, -, *, /) : \")\n",
    "\n",
    "    if operateur == \"+\":\n",
    "        return num1 + num2\n",
    "    elif operateur == \"-\":\n",
    "        return num1 - num2\n",
    "    elif operateur == \"*\":\n",
    "        return num1 * num2\n",
    "    elif operateur == \"/\":\n",
    "        if num2 != 0:\n",
    "            return num1 / num2\n",
    "        else:\n",
    "            return \"Erreur : Division par zéro\"\n",
    "    else:\n",
    "        return \"Erreur : Opérateur invalide\"\n",
    "\n",
    "# Programme principal avec boucle pour répéter\n",
    "while True:\n",
    "    try:\n",
    "        n1 = float(input(\"Entrez le premier nombre : \"))\n",
    "        n2 = float(input(\"Entrez le deuxième nombre : \"))\n",
    "    except ValueError:\n",
    "        print(\"Veuillez entrer un nombre valide.\")\n",
    "        continue\n",
    "\n",
    "    resultat = calculatrice(n1, n2)\n",
    "    print(\"Le résultat est :\", resultat)\n",
    "\n",
    "    # Demander si on continue\n",
    "    choix = input(\"Voulez-vous continuer ? (o/n) : \").lower()\n",
    "    if choix != \"o\":\n",
    "        print(\"Merci d'avoir utilisé la calculatrice.\")\n",
    "        break"
   ]
  }
 ],
 "metadata": {},
 "nbformat": 4,
 "nbformat_minor": 5
}
